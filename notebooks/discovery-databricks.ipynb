{
 "cells": [
  {
   "cell_type": "code",
   "execution_count": 0,
   "metadata": {
    "application/vnd.databricks.v1+cell": {
     "cellMetadata": {
      "byteLimit": 2048000,
      "rowLimit": 10000
     },
     "inputWidgets": {},
     "nuid": "e46f6688-b39e-4224-9776-fcdbee6e8737",
     "showTitle": false,
     "tableResultSettingsMap": {},
     "title": ""
    }
   },
   "outputs": [],
   "source": [
    "# !mkdir data\n",
    "!mkdir -p data"
   ]
  },
  {
   "cell_type": "code",
   "execution_count": 0,
   "metadata": {
    "application/vnd.databricks.v1+cell": {
     "cellMetadata": {
      "byteLimit": 2048000,
      "rowLimit": 10000
     },
     "inputWidgets": {},
     "nuid": "af15bacf-0a9e-4162-a364-05df8c4489cb",
     "showTitle": false,
     "tableResultSettingsMap": {},
     "title": ""
    }
   },
   "outputs": [],
   "source": [
    "import pandas as pd\n",
    "import requests\n",
    "import os\n",
    "\n",
    "# # Caminho relativo ao diretório atual do notebook no Repos\n",
    "# repo_path = os.getcwd()  # pega o diretório atual do notebook\n",
    "# data_path = os.path.join(repo_path, \"data\")\n",
    "\n"
   ]
  },
  {
   "cell_type": "code",
   "execution_count": 0,
   "metadata": {
    "application/vnd.databricks.v1+cell": {
     "cellMetadata": {
      "byteLimit": 2048000,
      "rowLimit": 10000
     },
     "inputWidgets": {},
     "nuid": "e46180b3-1986-45c3-a471-879c5a28fb5d",
     "showTitle": false,
     "tableResultSettingsMap": {},
     "title": ""
    }
   },
   "outputs": [],
   "source": [
    "def extract_data(url, filename):\n",
    "    try:\n",
    "        response = requests.get(url)\n",
    "\n",
    "        response.raise_for_status()  # levanta erro se não for 200 OK\n",
    "\n",
    "        with open(filename, \"wb\") as f:\n",
    "            f.write(response.content)\n",
    "\n",
    "        print(f\"Arquivo salvo em: {filename}\")\n",
    "\n",
    "    except Exception as e:\n",
    "        print(\"Erro:\", e)\n"
   ]
  },
  {
   "cell_type": "code",
   "execution_count": 0,
   "metadata": {
    "application/vnd.databricks.v1+cell": {
     "cellMetadata": {
      "byteLimit": 2048000,
      "rowLimit": 10000
     },
     "inputWidgets": {},
     "nuid": "6bfe0e0d-aae4-4d32-a6be-73f4501cf19e",
     "showTitle": false,
     "tableResultSettingsMap": {},
     "title": ""
    }
   },
   "outputs": [],
   "source": [
    "# Caminho relativo ao diretório atual do notebook no Repos\n",
    "repo_path = os.getcwd()  # pega o diretório atual do notebook\n",
    "data_path = os.path.join(repo_path, \"data\")\n",
    "\n",
    "\n",
    "data_boston_files = [\n",
    "    {\n",
    "        'url':        r\"https://data.boston.gov/dataset/8048697b-ad64-4bfc-b090-ee00169f2323/resource/c9509ab4-6f6d-4b97-979a-0cf2a10c922b/download/tmphrybkxuh.csv\",\n",
    "        'filename':   rf\"{data_path}/2015.csv\",\n",
    "        'year': 2015\n",
    "    },\n",
    "    {\n",
    "        'url':        r\"https://data.boston.gov/dataset/8048697b-ad64-4bfc-b090-ee00169f2323/resource/b7ea6b1b-3ca4-4c5b-9713-6dc1db52379a/download/tmpzxzxeqfb.csv\",\n",
    "        'filename':   rf\"{data_path}/2016.csv\",\n",
    "        'year': 2016\n",
    "    },\n",
    "    {\n",
    "        'url':        r\"https://data.boston.gov/dataset/8048697b-ad64-4bfc-b090-ee00169f2323/resource/30022137-709d-465e-baae-ca155b51927d/download/tmpzccn8u4q.csv\",\n",
    "        'filename':   rf\"{data_path}/2017.csv\",\n",
    "        'year': 2017\n",
    "    },\n",
    "    {\n",
    "        'url':        r\"https://data.boston.gov/dataset/8048697b-ad64-4bfc-b090-ee00169f2323/resource/2be28d90-3a90-4af1-a3f6-f28c1e25880a/download/tmp7602cia8.csv\",\n",
    "        'filename':   rf\"{data_path}/2018.csv\",\n",
    "        'year': 2018\n",
    "    },\n",
    "    {\n",
    "        'url':        r\"https://data.boston.gov/dataset/8048697b-ad64-4bfc-b090-ee00169f2323/resource/ea2e4696-4a2d-429c-9807-d02eb92e0222/download/tmpcje3ep_w.csv\",\n",
    "        'filename':   rf\"{data_path}/2019.csv\",\n",
    "        'year': 2019\n",
    "    },\n",
    "    {\n",
    "        'url':        r\"https://data.boston.gov/dataset/8048697b-ad64-4bfc-b090-ee00169f2323/resource/6ff6a6fd-3141-4440-a880-6f60a37fe789/download/tmpcv_10m2s.csv\",\n",
    "        'filename':   rf\"{data_path}/2020.csv\",\n",
    "        'year': 2020\n",
    "    },                    \n",
    "]"
   ]
  },
  {
   "cell_type": "code",
   "execution_count": 0,
   "metadata": {
    "application/vnd.databricks.v1+cell": {
     "cellMetadata": {
      "byteLimit": 2048000,
      "rowLimit": 10000
     },
     "inputWidgets": {},
     "nuid": "e7d91af3-c2f6-4d51-a961-6f11c45441b5",
     "showTitle": false,
     "tableResultSettingsMap": {},
     "title": ""
    }
   },
   "outputs": [],
   "source": [
    "\n",
    "\n",
    "\n",
    "# data_boston_files = [\n",
    "#     {\n",
    "#         'url':        r\"https://data.boston.gov/dataset/8048697b-ad64-4bfc-b090-ee00169f2323/resource/c9509ab4-6f6d-4b97-979a-0cf2a10c922b/download/tmphrybkxuh.csv\",\n",
    "#         'filename':   rf\"{data_path}\\2015.csv\",\n",
    "#         'year': 2015\n",
    "#     }\n",
    "# ]\n",
    "\n",
    "\n",
    "\n",
    "\n",
    "# url = r\"https://data.boston.gov/dataset/8048697b-ad64-4bfc-b090-ee00169f2323/resource/c9509ab4-6f6d-4b97-979a-0cf2a10c922b/download/tmphrybkxuh.csv\" \n",
    "\n",
    "# filename = rf\"{data_path}/data_2015.csv\"\n",
    "\n",
    "# extract_data(url,filename)"
   ]
  },
  {
   "cell_type": "code",
   "execution_count": 0,
   "metadata": {
    "application/vnd.databricks.v1+cell": {
     "cellMetadata": {
      "byteLimit": 2048000,
      "rowLimit": 10000
     },
     "inputWidgets": {},
     "nuid": "6b5adeae-47f9-4fb0-a75a-eda11acbc50f",
     "showTitle": false,
     "tableResultSettingsMap": {},
     "title": ""
    }
   },
   "outputs": [],
   "source": [
    "for item in data_boston_files:\n",
    "    url, filename = item['url'], item['filename']\n",
    "    extract_data(url,filename)\n",
    "    "
   ]
  },
  {
   "cell_type": "code",
   "execution_count": 0,
   "metadata": {
    "application/vnd.databricks.v1+cell": {
     "cellMetadata": {
      "byteLimit": 2048000,
      "rowLimit": 10000
     },
     "inputWidgets": {},
     "nuid": "2f01c9f7-3595-4499-b67f-0461e49b8846",
     "showTitle": false,
     "tableResultSettingsMap": {},
     "title": ""
    }
   },
   "outputs": [],
   "source": [
    "dfs = {}\n",
    "for item in data_boston_files:\n",
    "    year = item['year']\n",
    "    filename = item['filename']\n",
    "\n",
    "    print(year)\n",
    "    print(filename)\n",
    "\n",
    "    dfs[year] = pd.read_csv(filename)"
   ]
  },
  {
   "cell_type": "code",
   "execution_count": 0,
   "metadata": {
    "application/vnd.databricks.v1+cell": {
     "cellMetadata": {
      "byteLimit": 2048000,
      "rowLimit": 10000
     },
     "inputWidgets": {},
     "nuid": "06c80f38-0177-4e47-ada6-2331d384947a",
     "showTitle": false,
     "tableResultSettingsMap": {},
     "title": ""
    }
   },
   "outputs": [],
   "source": [
    "dfs[2015].head()"
   ]
  }
 ],
 "metadata": {
  "application/vnd.databricks.v1+notebook": {
   "computePreferences": null,
   "dashboards": [],
   "environmentMetadata": null,
   "inputWidgetPreferences": null,
   "language": "python",
   "notebookMetadata": {
    "pythonIndentUnit": 4
   },
   "notebookName": "discovery-databricks",
   "widgets": {}
  },
  "kernelspec": {
   "display_name": "data-integration-py3.11",
   "language": "python",
   "name": "python3"
  },
  "language_info": {
   "name": "python"
  }
 },
 "nbformat": 4,
 "nbformat_minor": 0
}
