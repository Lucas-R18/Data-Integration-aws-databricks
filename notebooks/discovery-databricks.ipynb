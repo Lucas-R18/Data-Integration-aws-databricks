{
 "cells": [
  {
   "cell_type": "code",
   "execution_count": null,
   "id": "505d7447",
   "metadata": {},
   "outputs": [],
   "source": [
    "# !mkdir data\n",
    "!mkdir -p data"
   ]
  },
  {
   "cell_type": "code",
   "execution_count": null,
   "id": "4ecb4cb2",
   "metadata": {},
   "outputs": [],
   "source": [
    "import pandas as pd\n",
    "import requests\n",
    "import os"
   ]
  },
  {
   "cell_type": "code",
   "execution_count": null,
   "id": "9caeceae",
   "metadata": {},
   "outputs": [],
   "source": [
    "def extract_data(url, filename):\n",
    "    try:\n",
    "        response = requests.get(url)\n",
    "\n",
    "        response.raise_for_status()  # levanta erro se não for 200 OK\n",
    "\n",
    "        with open(filename, \"wb\") as f:\n",
    "            f.write(response.content)\n",
    "\n",
    "        print(f\"Arquivo salvo em: {filename}\")\n",
    "\n",
    "    except Exception as e:\n",
    "        print(\"Erro:\", e)\n"
   ]
  },
  {
   "cell_type": "code",
   "execution_count": null,
   "id": "16aceb75",
   "metadata": {},
   "outputs": [],
   "source": [
    "data_boston_files = [\n",
    "    {\n",
    "        'url':        r\"https://data.boston.gov/dataset/8048697b-ad64-4bfc-b090-ee00169f2323/resource/c9509ab4-6f6d-4b97-979a-0cf2a10c922b/download/tmphrybkxuh.csv\",\n",
    "        'filename':   r\"data\\data_2015.csv\",\n",
    "        'year': 2015\n",
    "    },\n",
    "    {\n",
    "        'url':        r\"https://data.boston.gov/dataset/8048697b-ad64-4bfc-b090-ee00169f2323/resource/b7ea6b1b-3ca4-4c5b-9713-6dc1db52379a/download/tmpzxzxeqfb.csv\",\n",
    "        'filename':   r\"data\\data_2016.csv\",\n",
    "        'year': 2016\n",
    "    },\n",
    "    {\n",
    "        'url':        r\"https://data.boston.gov/dataset/8048697b-ad64-4bfc-b090-ee00169f2323/resource/30022137-709d-465e-baae-ca155b51927d/download/tmpzccn8u4q.csv\",\n",
    "        'filename':   r\"data\\data_2017.csv\",\n",
    "        'year': 2017\n",
    "    },\n",
    "    {\n",
    "        'url':        r\"https://data.boston.gov/dataset/8048697b-ad64-4bfc-b090-ee00169f2323/resource/2be28d90-3a90-4af1-a3f6-f28c1e25880a/download/tmp7602cia8.csv\",\n",
    "        'filename':   r\"data\\data_2018.csv\",\n",
    "        'year': 2018\n",
    "    },\n",
    "    {\n",
    "        'url':        r\"https://data.boston.gov/dataset/8048697b-ad64-4bfc-b090-ee00169f2323/resource/ea2e4696-4a2d-429c-9807-d02eb92e0222/download/tmpcje3ep_w.csv\",\n",
    "        'filename':   r\"data\\data_2019.csv\",\n",
    "        'year': 2019\n",
    "    },\n",
    "    {\n",
    "        'url':        r\"https://data.boston.gov/dataset/8048697b-ad64-4bfc-b090-ee00169f2323/resource/6ff6a6fd-3141-4440-a880-6f60a37fe789/download/tmpcv_10m2s.csv\",\n",
    "        'filename':   r\"data\\data_2020.csv\",\n",
    "        'year': 2020\n",
    "    },                    \n",
    "]"
   ]
  },
  {
   "cell_type": "code",
   "execution_count": null,
   "id": "e55fae35",
   "metadata": {},
   "outputs": [],
   "source": [
    "for item in data_boston_files:\n",
    "    url, filename = item['url'], item['filename']\n",
    "    extract_data(url,filename)"
   ]
  },
  {
   "cell_type": "code",
   "execution_count": null,
   "id": "e74ec3ec",
   "metadata": {},
   "outputs": [],
   "source": [
    "dfs = {}\n",
    "for item in data_boston_files:\n",
    "    year = item['year']\n",
    "    filename = item['filename']\n",
    "\n",
    "    print(year)\n",
    "    print(filename)\n",
    "\n",
    "    dfs[year] = pd.read_csv(filename)"
   ]
  },
  {
   "cell_type": "code",
   "execution_count": null,
   "id": "b25eac30",
   "metadata": {},
   "outputs": [],
   "source": [
    "dfs[2015].head()"
   ]
  }
 ],
 "metadata": {
  "kernelspec": {
   "display_name": "data-integration-py3.11",
   "language": "python",
   "name": "python3"
  },
  "language_info": {
   "codemirror_mode": {
    "name": "ipython",
    "version": 3
   },
   "file_extension": ".py",
   "mimetype": "text/x-python",
   "name": "python",
   "nbconvert_exporter": "python",
   "pygments_lexer": "ipython3",
   "version": "3.11.9"
  }
 },
 "nbformat": 4,
 "nbformat_minor": 5
}
