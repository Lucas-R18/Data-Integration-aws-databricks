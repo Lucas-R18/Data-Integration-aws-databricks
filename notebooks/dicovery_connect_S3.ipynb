{
 "cells": [
  {
   "cell_type": "code",
<<<<<<< HEAD
   "execution_count": null,
   "id": "423fa7b0",
   "metadata": {},
=======
   "execution_count": 0,
   "metadata": {
    "application/vnd.databricks.v1+cell": {
     "cellMetadata": {},
     "inputWidgets": {},
     "nuid": "9b199005-4263-45aa-b1a1-f4c7459265e1",
     "showTitle": false,
     "tableResultSettingsMap": {},
     "title": ""
    }
   },
>>>>>>> 8e71cf96a3be0925275db40a3612a1b17a54b276
   "outputs": [],
   "source": [
    "import boto3\n",
    "from dotenv import load_dotenv\n",
    "import os "
   ]
  },
  {
   "cell_type": "code",
<<<<<<< HEAD
   "execution_count": null,
   "id": "26c98656",
   "metadata": {},
=======
   "execution_count": 0,
   "metadata": {
    "application/vnd.databricks.v1+cell": {
     "cellMetadata": {},
     "inputWidgets": {},
     "nuid": "af36de60-ee7b-413d-95c5-3f31ad2312c5",
     "showTitle": false,
     "tableResultSettingsMap": {},
     "title": ""
    }
   },
>>>>>>> 8e71cf96a3be0925275db40a3612a1b17a54b276
   "outputs": [],
   "source": [
    "load_dotenv(dotenv_path=fr'..\\env\\aws_lrodrigues_developer.env')\n",
    "\n",
    "aws_key_id          = os.getenv('aws_key_id')      \n",
    "aws_secret_key      = os.getenv('aws_secret_key')      \n",
    "aws_region_name     = os.getenv('aws_region_name')  \n",
    "print(aws_key_id)"
   ]
  },
  {
   "cell_type": "code",
<<<<<<< HEAD
   "execution_count": null,
   "id": "80bb3f76",
   "metadata": {},
=======
   "execution_count": 0,
   "metadata": {
    "application/vnd.databricks.v1+cell": {
     "cellMetadata": {},
     "inputWidgets": {},
     "nuid": "668107d8-aef8-4092-808c-14b787790ef0",
     "showTitle": false,
     "tableResultSettingsMap": {},
     "title": ""
    }
   },
>>>>>>> 8e71cf96a3be0925275db40a3612a1b17a54b276
   "outputs": [],
   "source": [
    "boto3.setup_default_session(\n",
    "    aws_access_key_id = aws_key_id,\n",
    "    aws_secret_access_key = aws_secret_key,\n",
    "    region_name = aws_region_name\n",
    "    )\n",
    "\n",
    "\n",
    "s3 = boto3.client(\"s3\")"
   ]
  },
  {
   "cell_type": "code",
<<<<<<< HEAD
   "execution_count": null,
   "id": "7fb7f4a1",
   "metadata": {},
=======
   "execution_count": 0,
   "metadata": {
    "application/vnd.databricks.v1+cell": {
     "cellMetadata": {},
     "inputWidgets": {},
     "nuid": "0bfab6c7-9d93-49f1-9c4a-b6beabdd7f47",
     "showTitle": false,
     "tableResultSettingsMap": {},
     "title": ""
    }
   },
>>>>>>> 8e71cf96a3be0925275db40a3612a1b17a54b276
   "outputs": [],
   "source": [
    "content =  \"\"\"\n",
    "Hello, World\n",
    "\"\"\"\n",
    "\n",
    "with open('hello-s3.txt', \"w+\") as f:\n",
    "    f.write(content)"
   ]
  },
  {
   "cell_type": "code",
<<<<<<< HEAD
   "execution_count": null,
   "id": "f9e660b3",
   "metadata": {},
=======
   "execution_count": 0,
   "metadata": {
    "application/vnd.databricks.v1+cell": {
     "cellMetadata": {},
     "inputWidgets": {},
     "nuid": "ee3fe9cb-ca51-4112-a519-ca49be4cfbfd",
     "showTitle": false,
     "tableResultSettingsMap": {},
     "title": ""
    }
   },
>>>>>>> 8e71cf96a3be0925275db40a3612a1b17a54b276
   "outputs": [],
   "source": [
    "s3.upload_file(\"hello-s3.txt\",'datalake-01-lrodrigues','bronze/hello-s3.txt')"
   ]
  }
 ],
 "metadata": {
<<<<<<< HEAD
=======
  "application/vnd.databricks.v1+notebook": {
   "computePreferences": null,
   "dashboards": [],
   "environmentMetadata": null,
   "inputWidgetPreferences": null,
   "language": "python",
   "notebookMetadata": {
    "pythonIndentUnit": 4
   },
   "notebookName": "dicovery_connect_S3",
   "widgets": {}
  },
>>>>>>> 8e71cf96a3be0925275db40a3612a1b17a54b276
  "kernelspec": {
   "display_name": "data-integration-py3.11",
   "language": "python",
   "name": "python3"
  },
  "language_info": {
<<<<<<< HEAD
   "codemirror_mode": {
    "name": "ipython",
    "version": 3
   },
   "file_extension": ".py",
   "mimetype": "text/x-python",
   "name": "python",
   "nbconvert_exporter": "python",
   "pygments_lexer": "ipython3",
   "version": "3.11.9"
  }
 },
 "nbformat": 4,
 "nbformat_minor": 5
=======
   "name": "python"
  }
 },
 "nbformat": 4,
 "nbformat_minor": 0
>>>>>>> 8e71cf96a3be0925275db40a3612a1b17a54b276
}
