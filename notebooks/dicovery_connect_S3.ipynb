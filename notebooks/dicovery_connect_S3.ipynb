{
 "cells": [
  {
   "cell_type": "code",
   "execution_count": 0,
   "metadata": {
    "application/vnd.databricks.v1+cell": {
     "cellMetadata": {},
     "inputWidgets": {},
     "nuid": "9b199005-4263-45aa-b1a1-f4c7459265e1",
     "showTitle": false,
     "tableResultSettingsMap": {},
     "title": ""
    }
   },
   "outputs": [],
   "source": [
    "import boto3\n",
    "from dotenv import load_dotenv\n",
    "import os "
   ]
  },
  {
   "cell_type": "code",
   "execution_count": 0,
   "metadata": {
    "application/vnd.databricks.v1+cell": {
     "cellMetadata": {},
     "inputWidgets": {},
     "nuid": "af36de60-ee7b-413d-95c5-3f31ad2312c5",
     "showTitle": false,
     "tableResultSettingsMap": {},
     "title": ""
    }
   },
   "outputs": [],
   "source": [
    "load_dotenv(dotenv_path=fr'..\\env\\aws_lrodrigues_developer.env')\n",
    "\n",
    "aws_key_id          = os.getenv('aws_key_id')      \n",
    "aws_secret_key      = os.getenv('aws_secret_key')      \n",
    "aws_region_name     = os.getenv('aws_region_name')  \n",
    "print(aws_key_id)"
   ]
  },
  {
   "cell_type": "code",
   "execution_count": 0,
   "metadata": {
    "application/vnd.databricks.v1+cell": {
     "cellMetadata": {},
     "inputWidgets": {},
     "nuid": "668107d8-aef8-4092-808c-14b787790ef0",
     "showTitle": false,
     "tableResultSettingsMap": {},
     "title": ""
    }
   },
   "outputs": [],
   "source": [
    "boto3.setup_default_session(\n",
    "    aws_access_key_id = aws_key_id,\n",
    "    aws_secret_access_key = aws_secret_key,\n",
    "    region_name = aws_region_name\n",
    "    )\n",
    "\n",
    "\n",
    "s3 = boto3.client(\"s3\")"
   ]
  },
  {
   "cell_type": "code",
   "execution_count": 0,
   "metadata": {
    "application/vnd.databricks.v1+cell": {
     "cellMetadata": {},
     "inputWidgets": {},
     "nuid": "0bfab6c7-9d93-49f1-9c4a-b6beabdd7f47",
     "showTitle": false,
     "tableResultSettingsMap": {},
     "title": ""
    }
   },
   "outputs": [],
   "source": [
    "content =  \"\"\"\n",
    "Hello, World\n",
    "\"\"\"\n",
    "\n",
    "with open('hello-s3.txt', \"w+\") as f:\n",
    "    f.write(content)"
   ]
  },
  {
   "cell_type": "code",
   "execution_count": 0,
   "metadata": {
    "application/vnd.databricks.v1+cell": {
     "cellMetadata": {},
     "inputWidgets": {},
     "nuid": "ee3fe9cb-ca51-4112-a519-ca49be4cfbfd",
     "showTitle": false,
     "tableResultSettingsMap": {},
     "title": ""
    }
   },
   "outputs": [],
   "source": [
    "s3.upload_file(\"hello-s3.txt\",'datalake-01-lrodrigues','bronze/hello-s3.txt')"
   ]
  }
 ],
 "metadata": {
  "application/vnd.databricks.v1+notebook": {
   "computePreferences": null,
   "dashboards": [],
   "environmentMetadata": null,
   "inputWidgetPreferences": null,
   "language": "python",
   "notebookMetadata": {
    "pythonIndentUnit": 4
   },
   "notebookName": "dicovery_connect_S3",
   "widgets": {}
  },
  "kernelspec": {
   "display_name": "data-integration-py3.11",
   "language": "python",
   "name": "python3"
  },
  "language_info": {
   "name": "python"
  }
 },
 "nbformat": 4,
 "nbformat_minor": 0
}
