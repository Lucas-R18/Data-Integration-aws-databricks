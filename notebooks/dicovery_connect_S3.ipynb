{
 "cells": [
  {
   "cell_type": "code",
   "execution_count": null,
   "id": "423fa7b0",
   "metadata": {},
   "outputs": [],
   "source": [
    "import boto3\n",
    "from dotenv import load_dotenv\n",
    "import os "
   ]
  },
  {
   "cell_type": "code",
   "execution_count": null,
   "id": "26c98656",
   "metadata": {},
   "outputs": [],
   "source": [
    "load_dotenv(dotenv_path=fr'..\\env\\aws_lrodrigues_developer.env')\n",
    "\n",
    "aws_key_id          = os.getenv('aws_key_id')      \n",
    "aws_secret_key      = os.getenv('aws_secret_key')      \n",
    "aws_region_name     = os.getenv('aws_region_name')  \n",
    "print(aws_key_id)"
   ]
  },
  {
   "cell_type": "code",
   "execution_count": null,
   "id": "80bb3f76",
   "metadata": {},
   "outputs": [],
   "source": [
    "boto3.setup_default_session(\n",
    "    aws_access_key_id = aws_key_id,\n",
    "    aws_secret_access_key = aws_secret_key,\n",
    "    region_name = aws_region_name\n",
    "    )\n",
    "\n",
    "\n",
    "s3 = boto3.client(\"s3\")"
   ]
  },
  {
   "cell_type": "code",
   "execution_count": null,
   "id": "7fb7f4a1",
   "metadata": {},
   "outputs": [],
   "source": [
    "content =  \"\"\"\n",
    "Hello, World\n",
    "\"\"\"\n",
    "\n",
    "with open('hello-s3.txt', \"w+\") as f:\n",
    "    f.write(content)"
   ]
  },
  {
   "cell_type": "code",
   "execution_count": null,
   "id": "f9e660b3",
   "metadata": {},
   "outputs": [],
   "source": [
    "s3.upload_file(\"hello-s3.txt\",'datalake-01-lrodrigues','bronze/hello-s3.txt')"
   ]
  }
 ],
 "metadata": {
  "kernelspec": {
   "display_name": "data-integration-py3.11",
   "language": "python",
   "name": "python3"
  },
  "language_info": {
   "codemirror_mode": {
    "name": "ipython",
    "version": 3
   },
   "file_extension": ".py",
   "mimetype": "text/x-python",
   "name": "python",
   "nbconvert_exporter": "python",
   "pygments_lexer": "ipython3",
   "version": "3.11.9"
  }
 },
 "nbformat": 4,
 "nbformat_minor": 5
}
